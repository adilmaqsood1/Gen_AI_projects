{
  "cells": [
    {
      "cell_type": "code",
      "execution_count": null,
      "metadata": {
        "colab": {
          "base_uri": "https://localhost:8080/"
        },
        "id": "6nmjWRCfh7dV",
        "outputId": "e5d5f992-0e2f-4f1f-facf-a82fcc980a90"
      },
      "outputs": [
        {
          "ename": "",
          "evalue": "",
          "output_type": "error",
          "traceback": [
            "\u001b[1;31mRunning cells with 'base (Python 3.9.13)' requires the ipykernel package.\n",
            "\u001b[1;31mRun the following command to install 'ipykernel' into the Python environment. \n",
            "\u001b[1;31mCommand: 'conda install -n base ipykernel --update-deps --force-reinstall'"
          ]
        }
      ],
      "source": [
        "%pip install streamlit pyngrok\n",
        "%pip install langchain_groq\n",
        "%pip install langchain"
      ]
    },
    {
      "cell_type": "code",
      "execution_count": 39,
      "metadata": {
        "id": "TugBNDeYd1q-"
      },
      "outputs": [],
      "source": [
        "# Save the Streamlit app script to a file\n",
        "with open('virtual_healthcare_assistant.py', 'w') as f:\n",
        "    f.write('''\n",
        "import streamlit as st\n",
        "import os\n",
        "from groq import Groq\n",
        "\n",
        "# Set your Groq API key\n",
        "os.environ[\"GROQ_API_KEY\"] = \"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\"  # Replace with your actual API key\n",
        "\n",
        "# Initialize the Groq client\n",
        "client = Groq(api_key=os.environ.get(\"GROQ_API_KEY\"))\n",
        "\n",
        "# Streamlit app\n",
        "st.title(\"Virtual Healthcare Assistant\")\n",
        "st.write(\"Describe your symptoms or ask a medical question, and this assistant will provide relevant advice.\")\n",
        "\n",
        "# User input widget\n",
        "user_input = st.text_input(\"Enter your query here:\")\n",
        "\n",
        "# Handle the query and provide a response\n",
        "if user_input:\n",
        "    # Create a chat completion request\n",
        "    chat_completion = client.chat.completions.create(\n",
        "        messages=[\n",
        "            {\n",
        "                \"role\": \"user\",\n",
        "                \"content\": user_input,\n",
        "            }\n",
        "        ],\n",
        "        model=\"llama-3.1-70b-versatile\",\n",
        "    )\n",
        "\n",
        "    # Display the response from the model\n",
        "    st.write(\"Healthcare Assistant Response:\")\n",
        "    st.write(chat_completion.choices[0].message.content)\n",
        "    ''')\n"
      ]
    },
    {
      "cell_type": "code",
      "execution_count": 28,
      "metadata": {
        "id": "R8SByzahb8Im"
      },
      "outputs": [],
      "source": [
        "!streamlit run virtual_healthcare_assistant.py &>/dev/null&"
      ]
    },
    {
      "cell_type": "code",
      "execution_count": 30,
      "metadata": {
        "colab": {
          "base_uri": "https://localhost:8080/"
        },
        "id": "OkHPDj-gba7Z",
        "outputId": "20b94e3b-e823-42fd-f581-63fc25c1010c"
      },
      "outputs": [
        {
          "name": "stdout",
          "output_type": "stream",
          "text": [
            "Public URL for the Streamlit app: NgrokTunnel: \"https://e43a-34-68-50-43.ngrok-free.app\" -> \"http://localhost:8501\"\n"
          ]
        }
      ],
      "source": [
        "from pyngrok import ngrok\n",
        "\n",
        "# Start the ngrok tunnel for Streamlit on port 8501\n",
        "public_url = ngrok.connect(8501)\n",
        "print(f\"Public URL for the Streamlit app: {public_url}\")\n"
      ]
    },
    {
      "cell_type": "code",
      "execution_count": 29,
      "metadata": {
        "id": "SORA0KbiZIH1"
      },
      "outputs": [],
      "source": [
        "ngrok.kill()"
      ]
    }
  ],
  "metadata": {
    "colab": {
      "provenance": []
    },
    "kernelspec": {
      "display_name": "Python 3",
      "name": "python3"
    },
    "language_info": {
      "name": "python",
      "version": "3.9.13"
    }
  },
  "nbformat": 4,
  "nbformat_minor": 0
}
